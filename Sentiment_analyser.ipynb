{
  "nbformat": 4,
  "nbformat_minor": 0,
  "metadata": {
    "colab": {
      "provenance": []
    },
    "kernelspec": {
      "name": "python3",
      "display_name": "Python 3"
    },
    "language_info": {
      "name": "python"
    }
  },
  "cells": [
    {
      "cell_type": "markdown",
      "source": [
        "### Tried using chatgpt API but the use of the ChatGPT API requires a paid subscription."
      ],
      "metadata": {
        "id": "yFJQpB6Gjx_d"
      }
    },
    {
      "cell_type": "code",
      "source": [
        "pip install openai"
      ],
      "metadata": {
        "colab": {
          "base_uri": "https://localhost:8080/"
        },
        "id": "UZZwsrWCv1Jh",
        "outputId": "12b04fe3-45a8-4aeb-915c-3ba83f45e718"
      },
      "execution_count": null,
      "outputs": [
        {
          "output_type": "stream",
          "name": "stdout",
          "text": [
            "Collecting openai\n",
            "  Downloading openai-0.27.8-py3-none-any.whl (73 kB)\n",
            "\u001b[?25l     \u001b[90m━━━━━━━━━━━━━━━━━━━━━━━━━━━━━━━━━━━━━━━━\u001b[0m \u001b[32m0.0/73.6 kB\u001b[0m \u001b[31m?\u001b[0m eta \u001b[36m-:--:--\u001b[0m\r\u001b[2K     \u001b[90m━━━━━━━━━━━━━━━━━━━━━━━━━━━━━━━━━━━━━━━━\u001b[0m \u001b[32m73.6/73.6 kB\u001b[0m \u001b[31m3.8 MB/s\u001b[0m eta \u001b[36m0:00:00\u001b[0m\n",
            "\u001b[?25hRequirement already satisfied: requests>=2.20 in /usr/local/lib/python3.10/dist-packages (from openai) (2.27.1)\n",
            "Requirement already satisfied: tqdm in /usr/local/lib/python3.10/dist-packages (from openai) (4.65.0)\n",
            "Requirement already satisfied: aiohttp in /usr/local/lib/python3.10/dist-packages (from openai) (3.8.4)\n",
            "Requirement already satisfied: urllib3<1.27,>=1.21.1 in /usr/local/lib/python3.10/dist-packages (from requests>=2.20->openai) (1.26.16)\n",
            "Requirement already satisfied: certifi>=2017.4.17 in /usr/local/lib/python3.10/dist-packages (from requests>=2.20->openai) (2023.5.7)\n",
            "Requirement already satisfied: charset-normalizer~=2.0.0 in /usr/local/lib/python3.10/dist-packages (from requests>=2.20->openai) (2.0.12)\n",
            "Requirement already satisfied: idna<4,>=2.5 in /usr/local/lib/python3.10/dist-packages (from requests>=2.20->openai) (3.4)\n",
            "Requirement already satisfied: attrs>=17.3.0 in /usr/local/lib/python3.10/dist-packages (from aiohttp->openai) (23.1.0)\n",
            "Requirement already satisfied: multidict<7.0,>=4.5 in /usr/local/lib/python3.10/dist-packages (from aiohttp->openai) (6.0.4)\n",
            "Requirement already satisfied: async-timeout<5.0,>=4.0.0a3 in /usr/local/lib/python3.10/dist-packages (from aiohttp->openai) (4.0.2)\n",
            "Requirement already satisfied: yarl<2.0,>=1.0 in /usr/local/lib/python3.10/dist-packages (from aiohttp->openai) (1.9.2)\n",
            "Requirement already satisfied: frozenlist>=1.1.1 in /usr/local/lib/python3.10/dist-packages (from aiohttp->openai) (1.3.3)\n",
            "Requirement already satisfied: aiosignal>=1.1.2 in /usr/local/lib/python3.10/dist-packages (from aiohttp->openai) (1.3.1)\n",
            "Installing collected packages: openai\n",
            "Successfully installed openai-0.27.8\n"
          ]
        }
      ]
    },
    {
      "cell_type": "code",
      "source": [
        "from openai.api_resources import completion\n",
        "import openai\n",
        "openai.api_key = \"API-KEY"\n",
        "model_engine = \"text-davinci-003\"\n",
        "prompt = \"Hey how are you?\"\n",
        "completion = openai.Completion.create(\n",
        "    engine=model_engine,\n",
        "    prompt = prompt,\n",
        "    max_tokens=1024,\n",
        "    n=1,\n",
        "    stop=None,\n",
        "    temperature=0.5,\n",
        ")\n",
        "responce = completion.choices[0].text\n",
        "print(response)"
      ],
      "metadata": {
        "colab": {
          "base_uri": "https://localhost:8080/",
          "height": 450
        },
        "id": "yqp6ShnlwHMM",
        "outputId": "06ba7006-b6df-4046-be30-ddf9e238cf8c"
      },
      "execution_count": null,
      "outputs": [
        {
          "output_type": "error",
          "ename": "AuthenticationError",
          "evalue": "ignored",
          "traceback": [
            "\u001b[0;31m---------------------------------------------------------------------------\u001b[0m",
            "\u001b[0;31mAuthenticationError\u001b[0m                       Traceback (most recent call last)",
            "\u001b[0;32m<ipython-input-8-95e99198734b>\u001b[0m in \u001b[0;36m<cell line: 6>\u001b[0;34m()\u001b[0m\n\u001b[1;32m      4\u001b[0m \u001b[0mmodel_engine\u001b[0m \u001b[0;34m=\u001b[0m \u001b[0;34m\"text-davinci-003\"\u001b[0m\u001b[0;34m\u001b[0m\u001b[0;34m\u001b[0m\u001b[0m\n\u001b[1;32m      5\u001b[0m \u001b[0mprompt\u001b[0m \u001b[0;34m=\u001b[0m \u001b[0;34m\"Hey how are you?\"\u001b[0m\u001b[0;34m\u001b[0m\u001b[0;34m\u001b[0m\u001b[0m\n\u001b[0;32m----> 6\u001b[0;31m completion = openai.Completion.create(\n\u001b[0m\u001b[1;32m      7\u001b[0m     \u001b[0mengine\u001b[0m\u001b[0;34m=\u001b[0m\u001b[0mmodel_engine\u001b[0m\u001b[0;34m,\u001b[0m\u001b[0;34m\u001b[0m\u001b[0;34m\u001b[0m\u001b[0m\n\u001b[1;32m      8\u001b[0m     \u001b[0mprompt\u001b[0m \u001b[0;34m=\u001b[0m \u001b[0mprompt\u001b[0m\u001b[0;34m,\u001b[0m\u001b[0;34m\u001b[0m\u001b[0;34m\u001b[0m\u001b[0m\n",
            "\u001b[0;32m/usr/local/lib/python3.10/dist-packages/openai/api_resources/completion.py\u001b[0m in \u001b[0;36mcreate\u001b[0;34m(cls, *args, **kwargs)\u001b[0m\n\u001b[1;32m     23\u001b[0m         \u001b[0;32mwhile\u001b[0m \u001b[0;32mTrue\u001b[0m\u001b[0;34m:\u001b[0m\u001b[0;34m\u001b[0m\u001b[0;34m\u001b[0m\u001b[0m\n\u001b[1;32m     24\u001b[0m             \u001b[0;32mtry\u001b[0m\u001b[0;34m:\u001b[0m\u001b[0;34m\u001b[0m\u001b[0;34m\u001b[0m\u001b[0m\n\u001b[0;32m---> 25\u001b[0;31m                 \u001b[0;32mreturn\u001b[0m \u001b[0msuper\u001b[0m\u001b[0;34m(\u001b[0m\u001b[0;34m)\u001b[0m\u001b[0;34m.\u001b[0m\u001b[0mcreate\u001b[0m\u001b[0;34m(\u001b[0m\u001b[0;34m*\u001b[0m\u001b[0margs\u001b[0m\u001b[0;34m,\u001b[0m \u001b[0;34m**\u001b[0m\u001b[0mkwargs\u001b[0m\u001b[0;34m)\u001b[0m\u001b[0;34m\u001b[0m\u001b[0;34m\u001b[0m\u001b[0m\n\u001b[0m\u001b[1;32m     26\u001b[0m             \u001b[0;32mexcept\u001b[0m \u001b[0mTryAgain\u001b[0m \u001b[0;32mas\u001b[0m \u001b[0me\u001b[0m\u001b[0;34m:\u001b[0m\u001b[0;34m\u001b[0m\u001b[0;34m\u001b[0m\u001b[0m\n\u001b[1;32m     27\u001b[0m                 \u001b[0;32mif\u001b[0m \u001b[0mtimeout\u001b[0m \u001b[0;32mis\u001b[0m \u001b[0;32mnot\u001b[0m \u001b[0;32mNone\u001b[0m \u001b[0;32mand\u001b[0m \u001b[0mtime\u001b[0m\u001b[0;34m.\u001b[0m\u001b[0mtime\u001b[0m\u001b[0;34m(\u001b[0m\u001b[0;34m)\u001b[0m \u001b[0;34m>\u001b[0m \u001b[0mstart\u001b[0m \u001b[0;34m+\u001b[0m \u001b[0mtimeout\u001b[0m\u001b[0;34m:\u001b[0m\u001b[0;34m\u001b[0m\u001b[0;34m\u001b[0m\u001b[0m\n",
            "\u001b[0;32m/usr/local/lib/python3.10/dist-packages/openai/api_resources/abstract/engine_api_resource.py\u001b[0m in \u001b[0;36mcreate\u001b[0;34m(cls, api_key, api_base, api_type, request_id, api_version, organization, **params)\u001b[0m\n\u001b[1;32m    151\u001b[0m         )\n\u001b[1;32m    152\u001b[0m \u001b[0;34m\u001b[0m\u001b[0m\n\u001b[0;32m--> 153\u001b[0;31m         response, _, api_key = requestor.request(\n\u001b[0m\u001b[1;32m    154\u001b[0m             \u001b[0;34m\"post\"\u001b[0m\u001b[0;34m,\u001b[0m\u001b[0;34m\u001b[0m\u001b[0;34m\u001b[0m\u001b[0m\n\u001b[1;32m    155\u001b[0m             \u001b[0murl\u001b[0m\u001b[0;34m,\u001b[0m\u001b[0;34m\u001b[0m\u001b[0;34m\u001b[0m\u001b[0m\n",
            "\u001b[0;32m/usr/local/lib/python3.10/dist-packages/openai/api_requestor.py\u001b[0m in \u001b[0;36mrequest\u001b[0;34m(self, method, url, params, headers, files, stream, request_id, request_timeout)\u001b[0m\n\u001b[1;32m    296\u001b[0m             \u001b[0mrequest_timeout\u001b[0m\u001b[0;34m=\u001b[0m\u001b[0mrequest_timeout\u001b[0m\u001b[0;34m,\u001b[0m\u001b[0;34m\u001b[0m\u001b[0;34m\u001b[0m\u001b[0m\n\u001b[1;32m    297\u001b[0m         )\n\u001b[0;32m--> 298\u001b[0;31m         \u001b[0mresp\u001b[0m\u001b[0;34m,\u001b[0m \u001b[0mgot_stream\u001b[0m \u001b[0;34m=\u001b[0m \u001b[0mself\u001b[0m\u001b[0;34m.\u001b[0m\u001b[0m_interpret_response\u001b[0m\u001b[0;34m(\u001b[0m\u001b[0mresult\u001b[0m\u001b[0;34m,\u001b[0m \u001b[0mstream\u001b[0m\u001b[0;34m)\u001b[0m\u001b[0;34m\u001b[0m\u001b[0;34m\u001b[0m\u001b[0m\n\u001b[0m\u001b[1;32m    299\u001b[0m         \u001b[0;32mreturn\u001b[0m \u001b[0mresp\u001b[0m\u001b[0;34m,\u001b[0m \u001b[0mgot_stream\u001b[0m\u001b[0;34m,\u001b[0m \u001b[0mself\u001b[0m\u001b[0;34m.\u001b[0m\u001b[0mapi_key\u001b[0m\u001b[0;34m\u001b[0m\u001b[0;34m\u001b[0m\u001b[0m\n\u001b[1;32m    300\u001b[0m \u001b[0;34m\u001b[0m\u001b[0m\n",
            "\u001b[0;32m/usr/local/lib/python3.10/dist-packages/openai/api_requestor.py\u001b[0m in \u001b[0;36m_interpret_response\u001b[0;34m(self, result, stream)\u001b[0m\n\u001b[1;32m    698\u001b[0m         \u001b[0;32melse\u001b[0m\u001b[0;34m:\u001b[0m\u001b[0;34m\u001b[0m\u001b[0;34m\u001b[0m\u001b[0m\n\u001b[1;32m    699\u001b[0m             return (\n\u001b[0;32m--> 700\u001b[0;31m                 self._interpret_response_line(\n\u001b[0m\u001b[1;32m    701\u001b[0m                     \u001b[0mresult\u001b[0m\u001b[0;34m.\u001b[0m\u001b[0mcontent\u001b[0m\u001b[0;34m.\u001b[0m\u001b[0mdecode\u001b[0m\u001b[0;34m(\u001b[0m\u001b[0;34m\"utf-8\"\u001b[0m\u001b[0;34m)\u001b[0m\u001b[0;34m,\u001b[0m\u001b[0;34m\u001b[0m\u001b[0;34m\u001b[0m\u001b[0m\n\u001b[1;32m    702\u001b[0m                     \u001b[0mresult\u001b[0m\u001b[0;34m.\u001b[0m\u001b[0mstatus_code\u001b[0m\u001b[0;34m,\u001b[0m\u001b[0;34m\u001b[0m\u001b[0;34m\u001b[0m\u001b[0m\n",
            "\u001b[0;32m/usr/local/lib/python3.10/dist-packages/openai/api_requestor.py\u001b[0m in \u001b[0;36m_interpret_response_line\u001b[0;34m(self, rbody, rcode, rheaders, stream)\u001b[0m\n\u001b[1;32m    761\u001b[0m         \u001b[0mstream_error\u001b[0m \u001b[0;34m=\u001b[0m \u001b[0mstream\u001b[0m \u001b[0;32mand\u001b[0m \u001b[0;34m\"error\"\u001b[0m \u001b[0;32min\u001b[0m \u001b[0mresp\u001b[0m\u001b[0;34m.\u001b[0m\u001b[0mdata\u001b[0m\u001b[0;34m\u001b[0m\u001b[0;34m\u001b[0m\u001b[0m\n\u001b[1;32m    762\u001b[0m         \u001b[0;32mif\u001b[0m \u001b[0mstream_error\u001b[0m \u001b[0;32mor\u001b[0m \u001b[0;32mnot\u001b[0m \u001b[0;36m200\u001b[0m \u001b[0;34m<=\u001b[0m \u001b[0mrcode\u001b[0m \u001b[0;34m<\u001b[0m \u001b[0;36m300\u001b[0m\u001b[0;34m:\u001b[0m\u001b[0;34m\u001b[0m\u001b[0;34m\u001b[0m\u001b[0m\n\u001b[0;32m--> 763\u001b[0;31m             raise self.handle_error_response(\n\u001b[0m\u001b[1;32m    764\u001b[0m                 \u001b[0mrbody\u001b[0m\u001b[0;34m,\u001b[0m \u001b[0mrcode\u001b[0m\u001b[0;34m,\u001b[0m \u001b[0mresp\u001b[0m\u001b[0;34m.\u001b[0m\u001b[0mdata\u001b[0m\u001b[0;34m,\u001b[0m \u001b[0mrheaders\u001b[0m\u001b[0;34m,\u001b[0m \u001b[0mstream_error\u001b[0m\u001b[0;34m=\u001b[0m\u001b[0mstream_error\u001b[0m\u001b[0;34m\u001b[0m\u001b[0;34m\u001b[0m\u001b[0m\n\u001b[1;32m    765\u001b[0m             )\n",
            "\u001b[0;31mAuthenticationError\u001b[0m: Incorrect API key provided: XQiWzVxl***********************************************************llQ.. You can find your API key at https://platform.openai.com/account/api-keys."
          ]
        }
      ]
    },
    {
      "cell_type": "code",
      "source": [
        "pip install bardapi\n"
      ],
      "metadata": {
        "id": "USG_c9CtwsFf",
        "colab": {
          "base_uri": "https://localhost:8080/",
          "height": 1000
        },
        "outputId": "c2b68b13-81ab-4386-b7c4-6b0589aec9e2"
      },
      "execution_count": null,
      "outputs": [
        {
          "output_type": "stream",
          "name": "stdout",
          "text": [
            "Collecting bardapi\n",
            "  Downloading bardapi-0.1.24-py3-none-any.whl (19 kB)\n",
            "Requirement already satisfied: requests in /usr/local/lib/python3.10/dist-packages (from bardapi) (2.27.1)\n",
            "Collecting deep-translator (from bardapi)\n",
            "  Downloading deep_translator-1.11.4-py3-none-any.whl (42 kB)\n",
            "\u001b[2K     \u001b[90m━━━━━━━━━━━━━━━━━━━━━━━━━━━━━━━━━━━━━━━━\u001b[0m \u001b[32m42.3/42.3 kB\u001b[0m \u001b[31m1.8 MB/s\u001b[0m eta \u001b[36m0:00:00\u001b[0m\n",
            "\u001b[?25hCollecting colorama (from bardapi)\n",
            "  Downloading colorama-0.4.6-py2.py3-none-any.whl (25 kB)\n",
            "Collecting httpx[http2] (from bardapi)\n",
            "  Downloading httpx-0.24.1-py3-none-any.whl (75 kB)\n",
            "\u001b[2K     \u001b[90m━━━━━━━━━━━━━━━━━━━━━━━━━━━━━━━━━━━━━━━━\u001b[0m \u001b[32m75.4/75.4 kB\u001b[0m \u001b[31m6.5 MB/s\u001b[0m eta \u001b[36m0:00:00\u001b[0m\n",
            "\u001b[?25hCollecting google-cloud-translate==2.0.1 (from bardapi)\n",
            "  Downloading google_cloud_translate-2.0.1-py2.py3-none-any.whl (90 kB)\n",
            "\u001b[2K     \u001b[90m━━━━━━━━━━━━━━━━━━━━━━━━━━━━━━━━━━━━━━━━\u001b[0m \u001b[32m90.9/90.9 kB\u001b[0m \u001b[31m8.9 MB/s\u001b[0m eta \u001b[36m0:00:00\u001b[0m\n",
            "\u001b[?25hCollecting google-api-core[grpc]<2.0.0dev,>=1.15.0 (from google-cloud-translate==2.0.1->bardapi)\n",
            "  Downloading google_api_core-1.34.0-py3-none-any.whl (120 kB)\n",
            "\u001b[2K     \u001b[90m━━━━━━━━━━━━━━━━━━━━━━━━━━━━━━━━━━━━━━\u001b[0m \u001b[32m120.2/120.2 kB\u001b[0m \u001b[31m12.5 MB/s\u001b[0m eta \u001b[36m0:00:00\u001b[0m\n",
            "\u001b[?25hCollecting google-cloud-core<2.0dev,>=1.1.0 (from google-cloud-translate==2.0.1->bardapi)\n",
            "  Downloading google_cloud_core-1.7.3-py2.py3-none-any.whl (28 kB)\n",
            "Requirement already satisfied: beautifulsoup4<5.0.0,>=4.9.1 in /usr/local/lib/python3.10/dist-packages (from deep-translator->bardapi) (4.11.2)\n",
            "Requirement already satisfied: urllib3<1.27,>=1.21.1 in /usr/local/lib/python3.10/dist-packages (from requests->bardapi) (1.26.16)\n",
            "Requirement already satisfied: certifi>=2017.4.17 in /usr/local/lib/python3.10/dist-packages (from requests->bardapi) (2023.5.7)\n",
            "Requirement already satisfied: charset-normalizer~=2.0.0 in /usr/local/lib/python3.10/dist-packages (from requests->bardapi) (2.0.12)\n",
            "Requirement already satisfied: idna<4,>=2.5 in /usr/local/lib/python3.10/dist-packages (from requests->bardapi) (3.4)\n",
            "Collecting httpcore<0.18.0,>=0.15.0 (from httpx[http2]->bardapi)\n",
            "  Downloading httpcore-0.17.3-py3-none-any.whl (74 kB)\n",
            "\u001b[2K     \u001b[90m━━━━━━━━━━━━━━━━━━━━━━━━━━━━━━━━━━━━━━━━\u001b[0m \u001b[32m74.5/74.5 kB\u001b[0m \u001b[31m7.0 MB/s\u001b[0m eta \u001b[36m0:00:00\u001b[0m\n",
            "\u001b[?25hRequirement already satisfied: sniffio in /usr/local/lib/python3.10/dist-packages (from httpx[http2]->bardapi) (1.3.0)\n",
            "Collecting h2<5,>=3 (from httpx[http2]->bardapi)\n",
            "  Downloading h2-4.1.0-py3-none-any.whl (57 kB)\n",
            "\u001b[2K     \u001b[90m━━━━━━━━━━━━━━━━━━━━━━━━━━━━━━━━━━━━━━━━\u001b[0m \u001b[32m57.5/57.5 kB\u001b[0m \u001b[31m5.5 MB/s\u001b[0m eta \u001b[36m0:00:00\u001b[0m\n",
            "\u001b[?25hRequirement already satisfied: soupsieve>1.2 in /usr/local/lib/python3.10/dist-packages (from beautifulsoup4<5.0.0,>=4.9.1->deep-translator->bardapi) (2.4.1)\n",
            "Requirement already satisfied: googleapis-common-protos<2.0dev,>=1.56.2 in /usr/local/lib/python3.10/dist-packages (from google-api-core[grpc]<2.0.0dev,>=1.15.0->google-cloud-translate==2.0.1->bardapi) (1.59.1)\n",
            "Requirement already satisfied: protobuf!=3.20.0,!=3.20.1,!=4.21.0,!=4.21.1,!=4.21.2,!=4.21.3,!=4.21.4,!=4.21.5,<4.0.0dev,>=3.19.5 in /usr/local/lib/python3.10/dist-packages (from google-api-core[grpc]<2.0.0dev,>=1.15.0->google-cloud-translate==2.0.1->bardapi) (3.20.3)\n",
            "Requirement already satisfied: google-auth<3.0dev,>=1.25.0 in /usr/local/lib/python3.10/dist-packages (from google-api-core[grpc]<2.0.0dev,>=1.15.0->google-cloud-translate==2.0.1->bardapi) (2.17.3)\n",
            "Requirement already satisfied: grpcio<2.0dev,>=1.33.2 in /usr/local/lib/python3.10/dist-packages (from google-api-core[grpc]<2.0.0dev,>=1.15.0->google-cloud-translate==2.0.1->bardapi) (1.56.0)\n",
            "Requirement already satisfied: grpcio-status<2.0dev,>=1.33.2 in /usr/local/lib/python3.10/dist-packages (from google-api-core[grpc]<2.0.0dev,>=1.15.0->google-cloud-translate==2.0.1->bardapi) (1.48.2)\n",
            "Collecting google-auth<3.0dev,>=1.25.0 (from google-api-core[grpc]<2.0.0dev,>=1.15.0->google-cloud-translate==2.0.1->bardapi)\n",
            "  Downloading google_auth-1.35.0-py2.py3-none-any.whl (152 kB)\n",
            "\u001b[2K     \u001b[90m━━━━━━━━━━━━━━━━━━━━━━━━━━━━━━━━━━━━━━\u001b[0m \u001b[32m152.9/152.9 kB\u001b[0m \u001b[31m15.7 MB/s\u001b[0m eta \u001b[36m0:00:00\u001b[0m\n",
            "\u001b[?25hRequirement already satisfied: six>=1.12.0 in /usr/local/lib/python3.10/dist-packages (from google-cloud-core<2.0dev,>=1.1.0->google-cloud-translate==2.0.1->bardapi) (1.16.0)\n",
            "Collecting hyperframe<7,>=6.0 (from h2<5,>=3->httpx[http2]->bardapi)\n",
            "  Downloading hyperframe-6.0.1-py3-none-any.whl (12 kB)\n",
            "Collecting hpack<5,>=4.0 (from h2<5,>=3->httpx[http2]->bardapi)\n",
            "  Downloading hpack-4.0.0-py3-none-any.whl (32 kB)\n",
            "Collecting h11<0.15,>=0.13 (from httpcore<0.18.0,>=0.15.0->httpx[http2]->bardapi)\n",
            "  Downloading h11-0.14.0-py3-none-any.whl (58 kB)\n",
            "\u001b[2K     \u001b[90m━━━━━━━━━━━━━━━━━━━━━━━━━━━━━━━━━━━━━━━━\u001b[0m \u001b[32m58.3/58.3 kB\u001b[0m \u001b[31m3.3 MB/s\u001b[0m eta \u001b[36m0:00:00\u001b[0m\n",
            "\u001b[?25hRequirement already satisfied: anyio<5.0,>=3.0 in /usr/local/lib/python3.10/dist-packages (from httpcore<0.18.0,>=0.15.0->httpx[http2]->bardapi) (3.7.0)\n",
            "Requirement already satisfied: exceptiongroup in /usr/local/lib/python3.10/dist-packages (from anyio<5.0,>=3.0->httpcore<0.18.0,>=0.15.0->httpx[http2]->bardapi) (1.1.1)\n",
            "Collecting cachetools<5.0,>=2.0.0 (from google-auth<3.0dev,>=1.25.0->google-api-core[grpc]<2.0.0dev,>=1.15.0->google-cloud-translate==2.0.1->bardapi)\n",
            "  Downloading cachetools-4.2.4-py3-none-any.whl (10 kB)\n",
            "Requirement already satisfied: pyasn1-modules>=0.2.1 in /usr/local/lib/python3.10/dist-packages (from google-auth<3.0dev,>=1.25.0->google-api-core[grpc]<2.0.0dev,>=1.15.0->google-cloud-translate==2.0.1->bardapi) (0.3.0)\n",
            "Requirement already satisfied: setuptools>=40.3.0 in /usr/local/lib/python3.10/dist-packages (from google-auth<3.0dev,>=1.25.0->google-api-core[grpc]<2.0.0dev,>=1.15.0->google-cloud-translate==2.0.1->bardapi) (67.7.2)\n",
            "Requirement already satisfied: rsa<5,>=3.1.4 in /usr/local/lib/python3.10/dist-packages (from google-auth<3.0dev,>=1.25.0->google-api-core[grpc]<2.0.0dev,>=1.15.0->google-cloud-translate==2.0.1->bardapi) (4.9)\n",
            "Requirement already satisfied: pyasn1<0.6.0,>=0.4.6 in /usr/local/lib/python3.10/dist-packages (from pyasn1-modules>=0.2.1->google-auth<3.0dev,>=1.25.0->google-api-core[grpc]<2.0.0dev,>=1.15.0->google-cloud-translate==2.0.1->bardapi) (0.5.0)\n",
            "Installing collected packages: hyperframe, hpack, h11, colorama, cachetools, httpcore, h2, google-auth, deep-translator, httpx, google-api-core, google-cloud-core, google-cloud-translate, bardapi\n",
            "  Attempting uninstall: cachetools\n",
            "    Found existing installation: cachetools 5.3.1\n",
            "    Uninstalling cachetools-5.3.1:\n",
            "      Successfully uninstalled cachetools-5.3.1\n",
            "  Attempting uninstall: google-auth\n",
            "    Found existing installation: google-auth 2.17.3\n",
            "    Uninstalling google-auth-2.17.3:\n",
            "      Successfully uninstalled google-auth-2.17.3\n",
            "  Attempting uninstall: google-api-core\n",
            "    Found existing installation: google-api-core 2.11.1\n",
            "    Uninstalling google-api-core-2.11.1:\n",
            "      Successfully uninstalled google-api-core-2.11.1\n",
            "  Attempting uninstall: google-cloud-core\n",
            "    Found existing installation: google-cloud-core 2.3.2\n",
            "    Uninstalling google-cloud-core-2.3.2:\n",
            "      Successfully uninstalled google-cloud-core-2.3.2\n",
            "  Attempting uninstall: google-cloud-translate\n",
            "    Found existing installation: google-cloud-translate 3.11.1\n",
            "    Uninstalling google-cloud-translate-3.11.1:\n",
            "      Successfully uninstalled google-cloud-translate-3.11.1\n",
            "\u001b[31mERROR: pip's dependency resolver does not currently take into account all the packages that are installed. This behaviour is the source of the following dependency conflicts.\n",
            "google-auth-oauthlib 1.0.0 requires google-auth>=2.15.0, but you have google-auth 1.35.0 which is incompatible.\n",
            "google-cloud-storage 2.8.0 requires google-cloud-core<3.0dev,>=2.3.0, but you have google-cloud-core 1.7.3 which is incompatible.\n",
            "google-colab 1.0.0 requires google-auth==2.17.3, but you have google-auth 1.35.0 which is incompatible.\u001b[0m\u001b[31m\n",
            "\u001b[0mSuccessfully installed bardapi-0.1.24 cachetools-4.2.4 colorama-0.4.6 deep-translator-1.11.4 google-api-core-1.34.0 google-auth-1.35.0 google-cloud-core-1.7.3 google-cloud-translate-2.0.1 h11-0.14.0 h2-4.1.0 hpack-4.0.0 httpcore-0.17.3 httpx-0.24.1 hyperframe-6.0.1\n"
          ]
        },
        {
          "output_type": "display_data",
          "data": {
            "application/vnd.colab-display-data+json": {
              "pip_warning": {
                "packages": [
                  "google"
                ]
              }
            }
          },
          "metadata": {}
        }
      ]
    },
    {
      "cell_type": "markdown",
      "source": [
        "### **Used Bard API**"
      ],
      "metadata": {
        "id": "wfzl_gRdku4_"
      }
    },
    {
      "cell_type": "code",
      "source": [
        "from bardapi import Bard\n",
        "import os\n",
        "os.environ[\"_BARD_API_KEY\"] = \"YQiWzS95IceO0kP-q5DAa3eCiRfOFq2Zt0Q9aMevufBohGhaO79XFGgRKdl717iciX_fpQ.\"\n",
        "message = f\"the user is {v} so give relavent answer\"\n",
        "bard_response = Bard().get_answer(sentence + message)['content']\n",
        "print(bard_response)\n",
        "#print(Bard().get_answer(str(message)))"
      ],
      "metadata": {
        "colab": {
          "base_uri": "https://localhost:8080/"
        },
        "id": "Hv4qDFAZ1iIh",
        "outputId": "d6a630c6-7431-421f-dfb9-cbedf0d6c9f2"
      },
      "execution_count": null,
      "outputs": [
        {
          "output_type": "stream",
          "name": "stdout",
          "text": [
            "Hello! I am delighted to hear that you are happy. I hope you are having a wonderful day. What can I do for you today?\r\n",
            "\r\n",
            "I can help you with a variety of tasks, such as:\r\n",
            "\r\n",
            "* Answering your questions in an informative way\r\n",
            "* Generating different creative text formats, like poems, code, scripts, musical pieces, email, letters, etc.\r\n",
            "* Translating languages\r\n",
            "* Writing different kinds of creative content\r\n",
            "* Following your instructions and completing your requests thoughtfully\r\n",
            "\r\n",
            "Please let me know if you have any questions or requests. I am happy to help!\n"
          ]
        }
      ]
    },
    {
      "cell_type": "markdown",
      "source": [
        "I  Have used two methods to determine the emotion of the input.\n",
        "\n",
        "\n",
        "*   KMP String matching algorithm\n",
        "*   Logistic Regression(Machine learning algorithm)\n",
        "\n"
      ],
      "metadata": {
        "id": "0NH1j7mLlGVZ"
      }
    },
    {
      "cell_type": "code",
      "source": [
        "def build_kmp_table(pattern):\n",
        "    \"\"\"\n",
        "    Build the prefix table for the KMP algorithm.\n",
        "    \"\"\"\n",
        "    table = [0] * len(pattern)\n",
        "    i, j = 0, 1\n",
        "\n",
        "    while j < len(pattern):\n",
        "        if pattern[i] == pattern[j]:\n",
        "            i += 1\n",
        "            table[j] = i\n",
        "            j += 1\n",
        "        else:\n",
        "            if i != 0:\n",
        "                i = table[i - 1]\n",
        "            else:\n",
        "                table[j] = 0\n",
        "                j += 1\n",
        "\n",
        "    return table\n",
        "\n",
        "\n",
        "def kmp_search(text, pattern):\n",
        "    \"\"\"\n",
        "    Perform the KMP search algorithm to find pattern matches in the text.\n",
        "    \"\"\"\n",
        "    matches = []\n",
        "    i, j = 0, 0\n",
        "\n",
        "    while i < len(text):\n",
        "        if pattern[j] == text[i]:\n",
        "            i += 1\n",
        "            j += 1\n",
        "\n",
        "            if j == len(pattern):\n",
        "                matches.append(i - j)\n",
        "                j = 0\n",
        "        else:\n",
        "            if j != 0:\n",
        "                j = table[j - 1]\n",
        "            else:\n",
        "                i += 1\n",
        "\n",
        "    return matches\n",
        "\n",
        "\n",
        "# Arrays for different emotions\n",
        "happy_array = ['Joyful', 'Delighted', 'Content', 'Ecstatic', 'Blissful', 'Elated', 'Thrilled', 'Overjoyed',\n",
        "               'Merry', 'Radiant', 'Exhilarated', 'Grateful', 'Jubilant', 'Euphoric', 'Gleeful']\n",
        "\n",
        "sad_array = ['Sorrowful', 'Melancholy', 'Gloomy', 'Miserable', 'Dejected', 'Heartbroken', 'Depressed',\n",
        "             'Despondent', 'Downcast', 'Somber', 'Blue', 'Unhappy', 'Distressed', 'Woeful', 'Pensive']\n",
        "\n",
        "fear_array = ['Anxious', 'Nervous', 'Afraid', 'Terrified', 'Panicked', 'Horrified', 'Apprehensive', 'Tense',\n",
        "              'Worried', 'Scared', 'Uneasy', 'Phobic', 'Timid', 'Petrified', 'Frightened']\n",
        "\n",
        "anger_array = ['Furious', 'Enraged', 'Irate', 'Infuriated', 'Angry', 'Raging', 'Livid', 'Provoked',\n",
        "               'Resentful', 'Hostile', 'Vexed', 'Annoyed', 'Wrathful', 'Fuming', 'Incensed']\n",
        "\n",
        "# Prompt the user to enter a sentence\n",
        "sentence = input(\"Enter a sentence: \")\n",
        "# Convert the sentence to lowercase for case-insensitive comparison\n",
        "sentence = sentence.lower()\n",
        "\n",
        "# Perform emotion detection using KMP algorithm\n",
        "emotions = ['Happy', 'Sad', 'Fear', 'Anger']\n",
        "arrays = [happy_array, sad_array, fear_array, anger_array]\n",
        "\n",
        "for i in range(len(arrays)):\n",
        "    array = arrays[i]\n",
        "    found = False\n",
        "\n",
        "    for word in array:\n",
        "        table = build_kmp_table(word.lower())\n",
        "        matches = kmp_search(sentence, word.lower())\n",
        "\n",
        "        if len(matches) > 0:\n",
        "            found = True\n",
        "            break\n",
        "\n",
        "    if found:\n",
        "        v = emotions[i]\n",
        "        print(emotions[i])\n",
        "        break\n",
        "else:\n",
        "    text_list=[]\n",
        "    text_list.append(sentence)\n",
        "    output = pipe_lr.predict(text_list)\n",
        "    v = output\n",
        "    print(v)\n",
        "\n",
        "from bardapi import Bard\n",
        "import os\n",
        "os.environ[\"_BARD_API_KEY\"] = \"YQiWzS95IceO0kP-q5DAa3eCiRfOFq2Zt0Q9aMevufBohGhaO79XFGgRKdl717iciX_fpQ.\"\n",
        "message = f\"the user is {v} so give relavent answer\"\n",
        "print(message)\n",
        "bard_response = Bard().get_answer(sentence + message)['content']\n",
        "print(bard_response)\n"
      ],
      "metadata": {
        "colab": {
          "base_uri": "https://localhost:8080/"
        },
        "id": "9Q8ClMaSnZu4",
        "outputId": "79dc3f08-72e2-49dc-a33b-2171bc3def6b"
      },
      "execution_count": null,
      "outputs": [
        {
          "output_type": "stream",
          "name": "stdout",
          "text": [
            "Enter a sentence: i am really happy in my vacation\n",
            "['joy']\n",
            "the user is ['joy'] so give relavent answer\n",
            "I'm so glad to hear that you're having a happy vacation! I can tell that you're feeling joyful, and that's wonderful. I hope you're able to relax and enjoy all the things that make you happy during your time away.\n",
            "\n",
            "Here are a few things that you can do to make the most of your vacation and keep the joy flowing:\n",
            "\n",
            "* **Spend time in nature.** Being surrounded by nature has been shown to boost mood and reduce stress. Go for a hike, swim in a lake, or just sit in a park and enjoy the fresh air.\n",
            "* **Try new things.** Vacation is a great time to step outside of your comfort zone and try new experiences. This could mean trying a new food, visiting a new place, or learning a new skill.\n",
            "* **Spend time with loved ones.** Vacation is a great time to reconnect with loved ones and create new memories. Go on a family outing, have a picnic with friends, or just relax on the beach and chat.\n",
            "* **Do something you've been putting off.** If there's something you've been wanting to do but haven't had the time, vacation is the perfect excuse. This could be reading a book, learning to cook, or finally starting that project you've been meaning to get to.\n",
            "\n",
            "Most importantly, just relax and enjoy yourself! Vacation is a time to let go of stress and have fun. So make the most of it and savor every moment.\n",
            "\n",
            "I hope you have a wonderful vacation!\n"
          ]
        }
      ]
    },
    {
      "cell_type": "code",
      "source": [
        "import pandas as pd #data manupilation and analysis\n",
        "import numpy as np #supports large arrays and matrices\n",
        "import seaborn as sns #plot and visualize random distributions"
      ],
      "metadata": {
        "id": "hL8odJh3BqxS"
      },
      "execution_count": null,
      "outputs": []
    },
    {
      "cell_type": "code",
      "source": [
        "df = pd.read_csv(\"/content/emotion_dataset_raw.csv\") #loading the dataset\n",
        "#df = dataframe"
      ],
      "metadata": {
        "id": "ja8ahPV0B_SP"
      },
      "execution_count": null,
      "outputs": []
    },
    {
      "cell_type": "code",
      "source": [
        "df.head() #displays first 5 data"
      ],
      "metadata": {
        "colab": {
          "base_uri": "https://localhost:8080/",
          "height": 206
        },
        "id": "EptDnpQauTXn",
        "outputId": "589285ef-6dd3-45b9-e3e9-52f17aac5646"
      },
      "execution_count": null,
      "outputs": [
        {
          "output_type": "execute_result",
          "data": {
            "text/plain": [
              "   Emotion                                               Text\n",
              "0  neutral                                             Why ? \n",
              "1      joy    Sage Act upgrade on my to do list for tommorow.\n",
              "2  sadness  ON THE WAY TO MY HOMEGIRL BABY FUNERAL!!! MAN ...\n",
              "3      joy   Such an eye ! The true hazel eye-and so brill...\n",
              "4      joy  @Iluvmiasantos ugh babe.. hugggzzz for u .!  b..."
            ],
            "text/html": [
              "\n",
              "  <div id=\"df-d9f9f206-e2c2-422d-85fc-33e5affa5e84\">\n",
              "    <div class=\"colab-df-container\">\n",
              "      <div>\n",
              "<style scoped>\n",
              "    .dataframe tbody tr th:only-of-type {\n",
              "        vertical-align: middle;\n",
              "    }\n",
              "\n",
              "    .dataframe tbody tr th {\n",
              "        vertical-align: top;\n",
              "    }\n",
              "\n",
              "    .dataframe thead th {\n",
              "        text-align: right;\n",
              "    }\n",
              "</style>\n",
              "<table border=\"1\" class=\"dataframe\">\n",
              "  <thead>\n",
              "    <tr style=\"text-align: right;\">\n",
              "      <th></th>\n",
              "      <th>Emotion</th>\n",
              "      <th>Text</th>\n",
              "    </tr>\n",
              "  </thead>\n",
              "  <tbody>\n",
              "    <tr>\n",
              "      <th>0</th>\n",
              "      <td>neutral</td>\n",
              "      <td>Why ?</td>\n",
              "    </tr>\n",
              "    <tr>\n",
              "      <th>1</th>\n",
              "      <td>joy</td>\n",
              "      <td>Sage Act upgrade on my to do list for tommorow.</td>\n",
              "    </tr>\n",
              "    <tr>\n",
              "      <th>2</th>\n",
              "      <td>sadness</td>\n",
              "      <td>ON THE WAY TO MY HOMEGIRL BABY FUNERAL!!! MAN ...</td>\n",
              "    </tr>\n",
              "    <tr>\n",
              "      <th>3</th>\n",
              "      <td>joy</td>\n",
              "      <td>Such an eye ! The true hazel eye-and so brill...</td>\n",
              "    </tr>\n",
              "    <tr>\n",
              "      <th>4</th>\n",
              "      <td>joy</td>\n",
              "      <td>@Iluvmiasantos ugh babe.. hugggzzz for u .!  b...</td>\n",
              "    </tr>\n",
              "  </tbody>\n",
              "</table>\n",
              "</div>\n",
              "      <button class=\"colab-df-convert\" onclick=\"convertToInteractive('df-d9f9f206-e2c2-422d-85fc-33e5affa5e84')\"\n",
              "              title=\"Convert this dataframe to an interactive table.\"\n",
              "              style=\"display:none;\">\n",
              "        \n",
              "  <svg xmlns=\"http://www.w3.org/2000/svg\" height=\"24px\"viewBox=\"0 0 24 24\"\n",
              "       width=\"24px\">\n",
              "    <path d=\"M0 0h24v24H0V0z\" fill=\"none\"/>\n",
              "    <path d=\"M18.56 5.44l.94 2.06.94-2.06 2.06-.94-2.06-.94-.94-2.06-.94 2.06-2.06.94zm-11 1L8.5 8.5l.94-2.06 2.06-.94-2.06-.94L8.5 2.5l-.94 2.06-2.06.94zm10 10l.94 2.06.94-2.06 2.06-.94-2.06-.94-.94-2.06-.94 2.06-2.06.94z\"/><path d=\"M17.41 7.96l-1.37-1.37c-.4-.4-.92-.59-1.43-.59-.52 0-1.04.2-1.43.59L10.3 9.45l-7.72 7.72c-.78.78-.78 2.05 0 2.83L4 21.41c.39.39.9.59 1.41.59.51 0 1.02-.2 1.41-.59l7.78-7.78 2.81-2.81c.8-.78.8-2.07 0-2.86zM5.41 20L4 18.59l7.72-7.72 1.47 1.35L5.41 20z\"/>\n",
              "  </svg>\n",
              "      </button>\n",
              "      \n",
              "  <style>\n",
              "    .colab-df-container {\n",
              "      display:flex;\n",
              "      flex-wrap:wrap;\n",
              "      gap: 12px;\n",
              "    }\n",
              "\n",
              "    .colab-df-convert {\n",
              "      background-color: #E8F0FE;\n",
              "      border: none;\n",
              "      border-radius: 50%;\n",
              "      cursor: pointer;\n",
              "      display: none;\n",
              "      fill: #1967D2;\n",
              "      height: 32px;\n",
              "      padding: 0 0 0 0;\n",
              "      width: 32px;\n",
              "    }\n",
              "\n",
              "    .colab-df-convert:hover {\n",
              "      background-color: #E2EBFA;\n",
              "      box-shadow: 0px 1px 2px rgba(60, 64, 67, 0.3), 0px 1px 3px 1px rgba(60, 64, 67, 0.15);\n",
              "      fill: #174EA6;\n",
              "    }\n",
              "\n",
              "    [theme=dark] .colab-df-convert {\n",
              "      background-color: #3B4455;\n",
              "      fill: #D2E3FC;\n",
              "    }\n",
              "\n",
              "    [theme=dark] .colab-df-convert:hover {\n",
              "      background-color: #434B5C;\n",
              "      box-shadow: 0px 1px 3px 1px rgba(0, 0, 0, 0.15);\n",
              "      filter: drop-shadow(0px 1px 2px rgba(0, 0, 0, 0.3));\n",
              "      fill: #FFFFFF;\n",
              "    }\n",
              "  </style>\n",
              "\n",
              "      <script>\n",
              "        const buttonEl =\n",
              "          document.querySelector('#df-d9f9f206-e2c2-422d-85fc-33e5affa5e84 button.colab-df-convert');\n",
              "        buttonEl.style.display =\n",
              "          google.colab.kernel.accessAllowed ? 'block' : 'none';\n",
              "\n",
              "        async function convertToInteractive(key) {\n",
              "          const element = document.querySelector('#df-d9f9f206-e2c2-422d-85fc-33e5affa5e84');\n",
              "          const dataTable =\n",
              "            await google.colab.kernel.invokeFunction('convertToInteractive',\n",
              "                                                     [key], {});\n",
              "          if (!dataTable) return;\n",
              "\n",
              "          const docLinkHtml = 'Like what you see? Visit the ' +\n",
              "            '<a target=\"_blank\" href=https://colab.research.google.com/notebooks/data_table.ipynb>data table notebook</a>'\n",
              "            + ' to learn more about interactive tables.';\n",
              "          element.innerHTML = '';\n",
              "          dataTable['output_type'] = 'display_data';\n",
              "          await google.colab.output.renderOutput(dataTable, element);\n",
              "          const docLink = document.createElement('div');\n",
              "          docLink.innerHTML = docLinkHtml;\n",
              "          element.appendChild(docLink);\n",
              "        }\n",
              "      </script>\n",
              "    </div>\n",
              "  </div>\n",
              "  "
            ]
          },
          "metadata": {},
          "execution_count": 10
        }
      ]
    },
    {
      "cell_type": "code",
      "source": [
        "df['Emotion'].value_counts()"
      ],
      "metadata": {
        "colab": {
          "base_uri": "https://localhost:8080/"
        },
        "id": "hSBKWRabGzWP",
        "outputId": "2d70465a-bf5e-4965-e1cf-88bfa6215c4b"
      },
      "execution_count": null,
      "outputs": [
        {
          "output_type": "execute_result",
          "data": {
            "text/plain": [
              "joy         11045\n",
              "sadness      6722\n",
              "fear         5410\n",
              "anger        4297\n",
              "surprise     4062\n",
              "neutral      2254\n",
              "disgust       856\n",
              "shame         146\n",
              "Name: Emotion, dtype: int64"
            ]
          },
          "metadata": {},
          "execution_count": 4
        }
      ]
    },
    {
      "cell_type": "code",
      "source": [
        "sns.countplot(x='Emotion',data=df)"
      ],
      "metadata": {
        "colab": {
          "base_uri": "https://localhost:8080/",
          "height": 466
        },
        "id": "piT2Q_2jG2UR",
        "outputId": "d5d4a4e7-1fb7-4b39-b5c1-f73e2b6059cb"
      },
      "execution_count": null,
      "outputs": [
        {
          "output_type": "execute_result",
          "data": {
            "text/plain": [
              "<Axes: xlabel='Emotion', ylabel='count'>"
            ]
          },
          "metadata": {},
          "execution_count": 5
        },
        {
          "output_type": "display_data",
          "data": {
            "text/plain": [
              "<Figure size 640x480 with 1 Axes>"
            ],
            "image/png": "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\n"
          },
          "metadata": {}
        }
      ]
    },
    {
      "cell_type": "code",
      "source": [
        "!pip install neattext"
      ],
      "metadata": {
        "colab": {
          "base_uri": "https://localhost:8080/"
        },
        "id": "oB58JNihG3Qb",
        "outputId": "47d850b1-4d31-4712-95dc-a59acada6ec2"
      },
      "execution_count": null,
      "outputs": [
        {
          "output_type": "stream",
          "name": "stdout",
          "text": [
            "Collecting neattext\n",
            "  Downloading neattext-0.1.3-py3-none-any.whl (114 kB)\n",
            "\u001b[?25l     \u001b[90m━━━━━━━━━━━━━━━━━━━━━━━━━━━━━━━━━━━━━━━━\u001b[0m \u001b[32m0.0/114.7 kB\u001b[0m \u001b[31m?\u001b[0m eta \u001b[36m-:--:--\u001b[0m\r\u001b[2K     \u001b[90m━━━━━━━━━━━━━━━━━━━━━━━━━━━━━━━━━━━━━━━\u001b[0m \u001b[32m114.7/114.7 kB\u001b[0m \u001b[31m3.4 MB/s\u001b[0m eta \u001b[36m0:00:00\u001b[0m\n",
            "\u001b[?25hInstalling collected packages: neattext\n",
            "Successfully installed neattext-0.1.3\n"
          ]
        }
      ]
    },
    {
      "cell_type": "code",
      "source": [
        "import neattext.functions as nfx #a nlp for cleaning and pre processing text data\n"
      ],
      "metadata": {
        "id": "61oS8IDmHMS6"
      },
      "execution_count": null,
      "outputs": []
    },
    {
      "cell_type": "code",
      "source": [
        "!pip install nfx\n"
      ],
      "metadata": {
        "colab": {
          "base_uri": "https://localhost:8080/"
        },
        "id": "DUsIHtrAwjQU",
        "outputId": "f2740674-eef3-4c21-fceb-549d48937a30"
      },
      "execution_count": null,
      "outputs": [
        {
          "output_type": "stream",
          "name": "stdout",
          "text": [
            "Requirement already satisfied: nfx in /usr/local/lib/python3.10/dist-packages (0.0.3)\n"
          ]
        }
      ]
    },
    {
      "cell_type": "code",
      "source": [
        "!pip install neattext\n"
      ],
      "metadata": {
        "colab": {
          "base_uri": "https://localhost:8080/"
        },
        "id": "Jo2LYTzmywsm",
        "outputId": "69c7f04b-198c-42a3-94e7-6095f11ff5a6"
      },
      "execution_count": null,
      "outputs": [
        {
          "output_type": "stream",
          "name": "stdout",
          "text": [
            "Collecting neattext\n",
            "  Downloading neattext-0.1.3-py3-none-any.whl (114 kB)\n",
            "\u001b[?25l     \u001b[90m━━━━━━━━━━━━━━━━━━━━━━━━━━━━━━━━━━━━━━━━\u001b[0m \u001b[32m0.0/114.7 kB\u001b[0m \u001b[31m?\u001b[0m eta \u001b[36m-:--:--\u001b[0m\r\u001b[2K     \u001b[90m━━━━━━━━━━━━━━━━━━━━━━━━━━━━━━━━━━━━━━\u001b[0m \u001b[32m114.7/114.7 kB\u001b[0m \u001b[31m10.4 MB/s\u001b[0m eta \u001b[36m0:00:00\u001b[0m\n",
            "\u001b[?25hInstalling collected packages: neattext\n",
            "Successfully installed neattext-0.1.3\n"
          ]
        }
      ]
    },
    {
      "cell_type": "code",
      "source": [
        "import neattext.functions as nfx #a nlp for cleaning and pre processing text data\n"
      ],
      "metadata": {
        "id": "ok5I8onIylbe"
      },
      "execution_count": null,
      "outputs": []
    },
    {
      "cell_type": "code",
      "source": [
        "df['Clean_Text'] = df['Text'].apply(nfx.remove_userhandles)"
      ],
      "metadata": {
        "id": "MpiQFb3ex_pT"
      },
      "execution_count": null,
      "outputs": []
    },
    {
      "cell_type": "code",
      "source": [
        "dir(nfx) #functions in nfx library"
      ],
      "metadata": {
        "colab": {
          "base_uri": "https://localhost:8080/"
        },
        "id": "jJMvEwA0HPn9",
        "outputId": "8041e1a3-c61e-4c41-fc80-868c57b0f229"
      },
      "execution_count": null,
      "outputs": [
        {
          "output_type": "execute_result",
          "data": {
            "text/plain": [
              "['BTC_ADDRESS_REGEX',\n",
              " 'CURRENCY_REGEX',\n",
              " 'CURRENCY_SYMB_REGEX',\n",
              " 'Counter',\n",
              " 'DATE_REGEX',\n",
              " 'EMAIL_REGEX',\n",
              " 'EMOJI_REGEX',\n",
              " 'HASTAG_REGEX',\n",
              " 'MASTERCard_REGEX',\n",
              " 'MD5_SHA_REGEX',\n",
              " 'MOST_COMMON_PUNCT_REGEX',\n",
              " 'NUMBERS_REGEX',\n",
              " 'PHONE_REGEX',\n",
              " 'PoBOX_REGEX',\n",
              " 'SPECIAL_CHARACTERS_REGEX',\n",
              " 'STOPWORDS',\n",
              " 'STOPWORDS_de',\n",
              " 'STOPWORDS_en',\n",
              " 'STOPWORDS_es',\n",
              " 'STOPWORDS_fr',\n",
              " 'STOPWORDS_ru',\n",
              " 'STOPWORDS_yo',\n",
              " 'STREET_ADDRESS_REGEX',\n",
              " 'TextFrame',\n",
              " 'URL_PATTERN',\n",
              " 'USER_HANDLES_REGEX',\n",
              " 'VISACard_REGEX',\n",
              " '__builtins__',\n",
              " '__cached__',\n",
              " '__doc__',\n",
              " '__file__',\n",
              " '__generate_text',\n",
              " '__loader__',\n",
              " '__name__',\n",
              " '__numbers_dict',\n",
              " '__package__',\n",
              " '__spec__',\n",
              " '_lex_richness_herdan',\n",
              " '_lex_richness_maas_ttr',\n",
              " 'clean_text',\n",
              " 'defaultdict',\n",
              " 'digit2words',\n",
              " 'extract_btc_address',\n",
              " 'extract_currencies',\n",
              " 'extract_currency_symbols',\n",
              " 'extract_dates',\n",
              " 'extract_emails',\n",
              " 'extract_emojis',\n",
              " 'extract_hashtags',\n",
              " 'extract_html_tags',\n",
              " 'extract_mastercard_addr',\n",
              " 'extract_md5sha',\n",
              " 'extract_numbers',\n",
              " 'extract_pattern',\n",
              " 'extract_phone_numbers',\n",
              " 'extract_postoffice_box',\n",
              " 'extract_shortwords',\n",
              " 'extract_special_characters',\n",
              " 'extract_stopwords',\n",
              " 'extract_street_address',\n",
              " 'extract_terms_in_bracket',\n",
              " 'extract_urls',\n",
              " 'extract_userhandles',\n",
              " 'extract_visacard_addr',\n",
              " 'fix_contractions',\n",
              " 'generate_sentence',\n",
              " 'hamming_distance',\n",
              " 'inverse_df',\n",
              " 'lexical_richness',\n",
              " 'markov_chain',\n",
              " 'math',\n",
              " 'nlargest',\n",
              " 'normalize',\n",
              " 'num2words',\n",
              " 'random',\n",
              " 're',\n",
              " 'read_txt',\n",
              " 'remove_accents',\n",
              " 'remove_bad_quotes',\n",
              " 'remove_btc_address',\n",
              " 'remove_currencies',\n",
              " 'remove_currency_symbols',\n",
              " 'remove_custom_pattern',\n",
              " 'remove_custom_words',\n",
              " 'remove_dates',\n",
              " 'remove_emails',\n",
              " 'remove_emojis',\n",
              " 'remove_hashtags',\n",
              " 'remove_html_tags',\n",
              " 'remove_mastercard_addr',\n",
              " 'remove_md5sha',\n",
              " 'remove_multiple_spaces',\n",
              " 'remove_non_ascii',\n",
              " 'remove_numbers',\n",
              " 'remove_phone_numbers',\n",
              " 'remove_postoffice_box',\n",
              " 'remove_puncts',\n",
              " 'remove_punctuations',\n",
              " 'remove_shortwords',\n",
              " 'remove_special_characters',\n",
              " 'remove_stopwords',\n",
              " 'remove_street_address',\n",
              " 'remove_terms_in_bracket',\n",
              " 'remove_urls',\n",
              " 'remove_userhandles',\n",
              " 'remove_visacard_addr',\n",
              " 'replace_bad_quotes',\n",
              " 'replace_currencies',\n",
              " 'replace_currency_symbols',\n",
              " 'replace_dates',\n",
              " 'replace_emails',\n",
              " 'replace_emojis',\n",
              " 'replace_numbers',\n",
              " 'replace_phone_numbers',\n",
              " 'replace_special_characters',\n",
              " 'replace_term',\n",
              " 'replace_urls',\n",
              " 'string',\n",
              " 'term_freq',\n",
              " 'to_txt',\n",
              " 'unicodedata',\n",
              " 'word_freq',\n",
              " 'word_length_freq']"
            ]
          },
          "metadata": {},
          "execution_count": 10
        }
      ]
    },
    {
      "cell_type": "code",
      "source": [
        "df['Clean_Text'] = df['Clean_Text'].apply(nfx.remove_stopwords) #remove stop words-words that doent make that much impact (a,or,the,etc)"
      ],
      "metadata": {
        "id": "8AYWBCexHTUj"
      },
      "execution_count": null,
      "outputs": []
    },
    {
      "cell_type": "markdown",
      "source": [
        "text - unprocessed text , clean text - processed text\n"
      ],
      "metadata": {
        "id": "R8qDh9Koz9vl"
      }
    },
    {
      "cell_type": "code",
      "source": [
        "df"
      ],
      "metadata": {
        "colab": {
          "base_uri": "https://localhost:8080/",
          "height": 485
        },
        "id": "kpnRSie-HU2u",
        "outputId": "0d918687-dffa-476f-9e7f-303e1022e131"
      },
      "execution_count": null,
      "outputs": [
        {
          "output_type": "execute_result",
          "data": {
            "text/plain": [
              "        Emotion                                               Text  \\\n",
              "0       neutral                                             Why ?    \n",
              "1           joy    Sage Act upgrade on my to do list for tommorow.   \n",
              "2       sadness  ON THE WAY TO MY HOMEGIRL BABY FUNERAL!!! MAN ...   \n",
              "3           joy   Such an eye ! The true hazel eye-and so brill...   \n",
              "4           joy  @Iluvmiasantos ugh babe.. hugggzzz for u .!  b...   \n",
              "...         ...                                                ...   \n",
              "34787  surprise  @MichelGW have you gift! Hope you like it! It'...   \n",
              "34788       joy  The world didnt give it to me..so the world MO...   \n",
              "34789     anger                           A man robbed me today .    \n",
              "34790      fear  Youu call it JEALOUSY, I call it of #Losing YO...   \n",
              "34791   sadness  I think about you baby, and I dream about you ...   \n",
              "\n",
              "                                              Clean_Text  \n",
              "0                                                      ?  \n",
              "1                        Sage Act upgrade list tommorow.  \n",
              "2      WAY HOMEGIRL BABY FUNERAL!!! MAN HATE FUNERALS...  \n",
              "3      eye ! true hazel eye-and brilliant ! Regular f...  \n",
              "4      ugh babe.. hugggzzz u .! babe naamazed nga ako...  \n",
              "...                                                  ...  \n",
              "34787    gift! Hope like it! hand wear ! It'll warm! Lol  \n",
              "34788    world didnt me..so world DEFINITELY cnt away!!!  \n",
              "34789                                 man robbed today .  \n",
              "34790                      Youu JEALOUSY, #Losing YOU...  \n",
              "34791                             think baby, dream time  \n",
              "\n",
              "[34792 rows x 3 columns]"
            ],
            "text/html": [
              "\n",
              "  <div id=\"df-7959b872-5e2b-4911-a892-eee531c9705a\">\n",
              "    <div class=\"colab-df-container\">\n",
              "      <div>\n",
              "<style scoped>\n",
              "    .dataframe tbody tr th:only-of-type {\n",
              "        vertical-align: middle;\n",
              "    }\n",
              "\n",
              "    .dataframe tbody tr th {\n",
              "        vertical-align: top;\n",
              "    }\n",
              "\n",
              "    .dataframe thead th {\n",
              "        text-align: right;\n",
              "    }\n",
              "</style>\n",
              "<table border=\"1\" class=\"dataframe\">\n",
              "  <thead>\n",
              "    <tr style=\"text-align: right;\">\n",
              "      <th></th>\n",
              "      <th>Emotion</th>\n",
              "      <th>Text</th>\n",
              "      <th>Clean_Text</th>\n",
              "    </tr>\n",
              "  </thead>\n",
              "  <tbody>\n",
              "    <tr>\n",
              "      <th>0</th>\n",
              "      <td>neutral</td>\n",
              "      <td>Why ?</td>\n",
              "      <td>?</td>\n",
              "    </tr>\n",
              "    <tr>\n",
              "      <th>1</th>\n",
              "      <td>joy</td>\n",
              "      <td>Sage Act upgrade on my to do list for tommorow.</td>\n",
              "      <td>Sage Act upgrade list tommorow.</td>\n",
              "    </tr>\n",
              "    <tr>\n",
              "      <th>2</th>\n",
              "      <td>sadness</td>\n",
              "      <td>ON THE WAY TO MY HOMEGIRL BABY FUNERAL!!! MAN ...</td>\n",
              "      <td>WAY HOMEGIRL BABY FUNERAL!!! MAN HATE FUNERALS...</td>\n",
              "    </tr>\n",
              "    <tr>\n",
              "      <th>3</th>\n",
              "      <td>joy</td>\n",
              "      <td>Such an eye ! The true hazel eye-and so brill...</td>\n",
              "      <td>eye ! true hazel eye-and brilliant ! Regular f...</td>\n",
              "    </tr>\n",
              "    <tr>\n",
              "      <th>4</th>\n",
              "      <td>joy</td>\n",
              "      <td>@Iluvmiasantos ugh babe.. hugggzzz for u .!  b...</td>\n",
              "      <td>ugh babe.. hugggzzz u .! babe naamazed nga ako...</td>\n",
              "    </tr>\n",
              "    <tr>\n",
              "      <th>...</th>\n",
              "      <td>...</td>\n",
              "      <td>...</td>\n",
              "      <td>...</td>\n",
              "    </tr>\n",
              "    <tr>\n",
              "      <th>34787</th>\n",
              "      <td>surprise</td>\n",
              "      <td>@MichelGW have you gift! Hope you like it! It'...</td>\n",
              "      <td>gift! Hope like it! hand wear ! It'll warm! Lol</td>\n",
              "    </tr>\n",
              "    <tr>\n",
              "      <th>34788</th>\n",
              "      <td>joy</td>\n",
              "      <td>The world didnt give it to me..so the world MO...</td>\n",
              "      <td>world didnt me..so world DEFINITELY cnt away!!!</td>\n",
              "    </tr>\n",
              "    <tr>\n",
              "      <th>34789</th>\n",
              "      <td>anger</td>\n",
              "      <td>A man robbed me today .</td>\n",
              "      <td>man robbed today .</td>\n",
              "    </tr>\n",
              "    <tr>\n",
              "      <th>34790</th>\n",
              "      <td>fear</td>\n",
              "      <td>Youu call it JEALOUSY, I call it of #Losing YO...</td>\n",
              "      <td>Youu JEALOUSY, #Losing YOU...</td>\n",
              "    </tr>\n",
              "    <tr>\n",
              "      <th>34791</th>\n",
              "      <td>sadness</td>\n",
              "      <td>I think about you baby, and I dream about you ...</td>\n",
              "      <td>think baby, dream time</td>\n",
              "    </tr>\n",
              "  </tbody>\n",
              "</table>\n",
              "<p>34792 rows × 3 columns</p>\n",
              "</div>\n",
              "      <button class=\"colab-df-convert\" onclick=\"convertToInteractive('df-7959b872-5e2b-4911-a892-eee531c9705a')\"\n",
              "              title=\"Convert this dataframe to an interactive table.\"\n",
              "              style=\"display:none;\">\n",
              "        \n",
              "  <svg xmlns=\"http://www.w3.org/2000/svg\" height=\"24px\"viewBox=\"0 0 24 24\"\n",
              "       width=\"24px\">\n",
              "    <path d=\"M0 0h24v24H0V0z\" fill=\"none\"/>\n",
              "    <path d=\"M18.56 5.44l.94 2.06.94-2.06 2.06-.94-2.06-.94-.94-2.06-.94 2.06-2.06.94zm-11 1L8.5 8.5l.94-2.06 2.06-.94-2.06-.94L8.5 2.5l-.94 2.06-2.06.94zm10 10l.94 2.06.94-2.06 2.06-.94-2.06-.94-.94-2.06-.94 2.06-2.06.94z\"/><path d=\"M17.41 7.96l-1.37-1.37c-.4-.4-.92-.59-1.43-.59-.52 0-1.04.2-1.43.59L10.3 9.45l-7.72 7.72c-.78.78-.78 2.05 0 2.83L4 21.41c.39.39.9.59 1.41.59.51 0 1.02-.2 1.41-.59l7.78-7.78 2.81-2.81c.8-.78.8-2.07 0-2.86zM5.41 20L4 18.59l7.72-7.72 1.47 1.35L5.41 20z\"/>\n",
              "  </svg>\n",
              "      </button>\n",
              "      \n",
              "  <style>\n",
              "    .colab-df-container {\n",
              "      display:flex;\n",
              "      flex-wrap:wrap;\n",
              "      gap: 12px;\n",
              "    }\n",
              "\n",
              "    .colab-df-convert {\n",
              "      background-color: #E8F0FE;\n",
              "      border: none;\n",
              "      border-radius: 50%;\n",
              "      cursor: pointer;\n",
              "      display: none;\n",
              "      fill: #1967D2;\n",
              "      height: 32px;\n",
              "      padding: 0 0 0 0;\n",
              "      width: 32px;\n",
              "    }\n",
              "\n",
              "    .colab-df-convert:hover {\n",
              "      background-color: #E2EBFA;\n",
              "      box-shadow: 0px 1px 2px rgba(60, 64, 67, 0.3), 0px 1px 3px 1px rgba(60, 64, 67, 0.15);\n",
              "      fill: #174EA6;\n",
              "    }\n",
              "\n",
              "    [theme=dark] .colab-df-convert {\n",
              "      background-color: #3B4455;\n",
              "      fill: #D2E3FC;\n",
              "    }\n",
              "\n",
              "    [theme=dark] .colab-df-convert:hover {\n",
              "      background-color: #434B5C;\n",
              "      box-shadow: 0px 1px 3px 1px rgba(0, 0, 0, 0.15);\n",
              "      filter: drop-shadow(0px 1px 2px rgba(0, 0, 0, 0.3));\n",
              "      fill: #FFFFFF;\n",
              "    }\n",
              "  </style>\n",
              "\n",
              "      <script>\n",
              "        const buttonEl =\n",
              "          document.querySelector('#df-7959b872-5e2b-4911-a892-eee531c9705a button.colab-df-convert');\n",
              "        buttonEl.style.display =\n",
              "          google.colab.kernel.accessAllowed ? 'block' : 'none';\n",
              "\n",
              "        async function convertToInteractive(key) {\n",
              "          const element = document.querySelector('#df-7959b872-5e2b-4911-a892-eee531c9705a');\n",
              "          const dataTable =\n",
              "            await google.colab.kernel.invokeFunction('convertToInteractive',\n",
              "                                                     [key], {});\n",
              "          if (!dataTable) return;\n",
              "\n",
              "          const docLinkHtml = 'Like what you see? Visit the ' +\n",
              "            '<a target=\"_blank\" href=https://colab.research.google.com/notebooks/data_table.ipynb>data table notebook</a>'\n",
              "            + ' to learn more about interactive tables.';\n",
              "          element.innerHTML = '';\n",
              "          dataTable['output_type'] = 'display_data';\n",
              "          await google.colab.output.renderOutput(dataTable, element);\n",
              "          const docLink = document.createElement('div');\n",
              "          docLink.innerHTML = docLinkHtml;\n",
              "          element.appendChild(docLink);\n",
              "        }\n",
              "      </script>\n",
              "    </div>\n",
              "  </div>\n",
              "  "
            ]
          },
          "metadata": {},
          "execution_count": 12
        }
      ]
    },
    {
      "cell_type": "code",
      "source": [
        "x = df['Clean_Text'] #input varaible\n",
        "y = df['Emotion'] #target variable"
      ],
      "metadata": {
        "id": "AtgFsZH5HqFG"
      },
      "execution_count": null,
      "outputs": []
    },
    {
      "cell_type": "code",
      "source": [
        "from sklearn.model_selection import train_test_split #splits dataset into two training and test dataset"
      ],
      "metadata": {
        "id": "LximksOI1GLq"
      },
      "execution_count": null,
      "outputs": []
    },
    {
      "cell_type": "code",
      "source": [
        "x_train, x_test, y_train, y_test = train_test_split(x, y, test_size=0.3, random_state=42)\n",
        " #test dataset size = 30%"
      ],
      "metadata": {
        "id": "TQx9zjDH1HGk"
      },
      "execution_count": null,
      "outputs": []
    },
    {
      "cell_type": "code",
      "source": [
        "from sklearn.pipeline import Pipeline"
      ],
      "metadata": {
        "id": "wgLwoGMQ1HKh"
      },
      "execution_count": null,
      "outputs": []
    },
    {
      "cell_type": "code",
      "source": [
        "from sklearn.feature_extraction.text import CountVectorizer\n",
        "#converts text to vectors based on its frequency that occurs in the line"
      ],
      "metadata": {
        "id": "2qn-nYBO1HMm"
      },
      "execution_count": null,
      "outputs": []
    },
    {
      "cell_type": "code",
      "source": [
        "from sklearn.svm import SVC"
      ],
      "metadata": {
        "id": "tZua9ZoM1HP6"
      },
      "execution_count": null,
      "outputs": []
    },
    {
      "cell_type": "code",
      "source": [
        "from sklearn.ensemble import RandomForestClassifier"
      ],
      "metadata": {
        "id": "O3yfmu4E8JAj"
      },
      "execution_count": null,
      "outputs": []
    },
    {
      "cell_type": "code",
      "source": [
        "from sklearn.linear_model import LogisticRegression"
      ],
      "metadata": {
        "id": "UKAHpyaM8JC7"
      },
      "execution_count": null,
      "outputs": []
    },
    {
      "cell_type": "code",
      "source": [
        "pipe_lr = Pipeline(steps=[('cv',CountVectorizer()),('lr',LogisticRegression())])\n",
        "pipe_lr.fit(x_train,y_train)\n",
        "pipe_lr.score(x_test,y_test)"
      ],
      "metadata": {
        "colab": {
          "base_uri": "https://localhost:8080/"
        },
        "id": "GXrkkbuL8JF9",
        "outputId": "44e0418d-81df-41f0-9597-39ca7152a4fa"
      },
      "execution_count": null,
      "outputs": [
        {
          "output_type": "stream",
          "name": "stderr",
          "text": [
            "/usr/local/lib/python3.10/dist-packages/sklearn/linear_model/_logistic.py:458: ConvergenceWarning: lbfgs failed to converge (status=1):\n",
            "STOP: TOTAL NO. of ITERATIONS REACHED LIMIT.\n",
            "\n",
            "Increase the number of iterations (max_iter) or scale the data as shown in:\n",
            "    https://scikit-learn.org/stable/modules/preprocessing.html\n",
            "Please also refer to the documentation for alternative solver options:\n",
            "    https://scikit-learn.org/stable/modules/linear_model.html#logistic-regression\n",
            "  n_iter_i = _check_optimize_result(\n"
          ]
        },
        {
          "output_type": "execute_result",
          "data": {
            "text/plain": [
              "0.619946349875455"
            ]
          },
          "metadata": {},
          "execution_count": 24
        }
      ]
    },
    {
      "cell_type": "code",
      "source": [
        "text_list=[]\n",
        "print(\"Hello Enter your text \")\n",
        "user_input = input()\n",
        "print(user_input)\n",
        "text_list.append(user_input)\n",
        "print(text_list)\n",
        "output = pipe_lr.predict(text_list)\n",
        "print(output)"
      ],
      "metadata": {
        "colab": {
          "base_uri": "https://localhost:8080/"
        },
        "id": "qUeXHQ9gNgk5",
        "outputId": "dbb1b52a-7efb-4f27-8e75-94c349677c98"
      },
      "execution_count": null,
      "outputs": [
        {
          "output_type": "stream",
          "name": "stdout",
          "text": [
            "Hello Enter your text \n",
            "hello i am awful\n",
            "hello i am awful\n",
            "['hello i am awful']\n",
            "['neutral']\n"
          ]
        }
      ]
    },
    {
      "cell_type": "code",
      "source": [
        "import joblib"
      ],
      "metadata": {
        "id": "B-NcqMaH8JH3"
      },
      "execution_count": null,
      "outputs": []
    },
    {
      "cell_type": "code",
      "source": [
        "pipeline_file = open(\"text_emotion.pkl\",\"wb\")\n",
        "joblib.dump(pipe_lr,pipeline_file)\n",
        "pipeline_file.close()"
      ],
      "metadata": {
        "id": "mF2Nh5vT8JLc"
      },
      "execution_count": null,
      "outputs": []
    }
  ]
}
